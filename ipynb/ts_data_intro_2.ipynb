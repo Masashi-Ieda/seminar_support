{
 "cells": [
  {
   "cell_type": "markdown",
   "id": "1a1e86e2-18bc-49ae-a574-f9263e88d5a2",
   "metadata": {
    "id": "1a1e86e2-18bc-49ae-a574-f9263e88d5a2"
   },
   "source": [
    "# pandas による時系列データ処理入門（その2）\n",
    "\n",
    "- 本ノートブックで扱う内容\n",
    "    - ファイルの読み込み\n",
    "    - 基準日を変えながら行うデータ処理\n",
    "- 事前知識\n",
    "    - `pandas` とは何か知っている\n",
    "    - `pd.DataFrame` を少し触った事がある\n",
    "\n",
    "---"
   ]
  },
  {
   "cell_type": "markdown",
   "id": "Z2vB-SmI1lTl",
   "metadata": {
    "id": "Z2vB-SmI1lTl"
   },
   "source": [
    "# 0. 前準備\n",
    "\n",
    "- ライブラリのインポート"
   ]
  },
  {
   "cell_type": "code",
   "execution_count": 1,
   "id": "bFTKFHxHoLsZ",
   "metadata": {
    "executionInfo": {
     "elapsed": 948,
     "status": "ok",
     "timestamp": 1650880807613,
     "user": {
      "displayName": "Masashi Ieda",
      "userId": "12994922150649038334"
     },
     "user_tz": -540
    },
    "id": "bFTKFHxHoLsZ"
   },
   "outputs": [],
   "source": [
    "import numpy as np\n",
    "import pandas as pd\n",
    "#\n",
    "import matplotlib\n",
    "import matplotlib.pyplot as plt\n",
    "matplotlib.style.use('ggplot')"
   ]
  },
  {
   "cell_type": "markdown",
   "id": "19471647",
   "metadata": {},
   "source": [
    "- 作業ディレクトリの変更\n",
    "    - 詳細はサポートページのTIPsにある `colab.ipynb` 参照"
   ]
  },
  {
   "cell_type": "code",
   "execution_count": 2,
   "id": "36102770",
   "metadata": {},
   "outputs": [],
   "source": [
    "import os\n",
    "from google.colab import drive\n",
    "drive.mount('/content/drive')\n",
    "# GoogleDrive内のColabNotebooksディレクトリへ移動\n",
    "%cd \"/content/drive/My Drive/Colab Notebooks/\""
   ]
  },
  {
   "cell_type": "markdown",
   "id": "b9de862b-b79c-4319-9e16-bc2a064741dc",
   "metadata": {
    "id": "b9de862b-b79c-4319-9e16-bc2a064741dc"
   },
   "source": [
    "---\n",
    "\n",
    "# 1. データファイルの読み込み\n",
    "\n",
    "資料「pandas による時系列データ処理入門（その1）」では時系列データを自分で生成した。<br>\n",
    "しかし、実際には何らかの方法で取得したデータを分析することが大半である。<br>\n",
    "この資料を書いている時点では、手軽に扱える範囲のデータであればCSVファイル形式で配布されていることが多い。<br>\n",
    "そこで、本資料ではCSV形式で与えられた時系列データの読み込み方法を解説する。"
   ]
  },
  {
   "cell_type": "markdown",
   "id": "258bcd6d",
   "metadata": {},
   "source": [
    "## 1.1. 時系列CSVデータの読み込み\n",
    "\n",
    "まずは、サンプルデータ [sample_ts_data.csv](https://github.com/Masashi-Ieda/seminar_support/blob/main/ipynb/sample_ts_data.csv) を読み込んでみよう。<br>\n",
    "（GitHub上にあるのでダウンロードして適当なフォルダに置くこと。）<br>\n",
    "`pandas` で csv を読み込む場合は `read_csv()`を使うのであった。<br>\n",
    "ナイーブに実行してみよう。"
   ]
  },
  {
   "cell_type": "code",
   "execution_count": 3,
   "id": "f602335b",
   "metadata": {},
   "outputs": [
    {
     "data": {
      "text/html": [
       "<div>\n",
       "<style scoped>\n",
       "    .dataframe tbody tr th:only-of-type {\n",
       "        vertical-align: middle;\n",
       "    }\n",
       "\n",
       "    .dataframe tbody tr th {\n",
       "        vertical-align: top;\n",
       "    }\n",
       "\n",
       "    .dataframe thead th {\n",
       "        text-align: right;\n",
       "    }\n",
       "</style>\n",
       "<table border=\"1\" class=\"dataframe\">\n",
       "  <thead>\n",
       "    <tr style=\"text-align: right;\">\n",
       "      <th></th>\n",
       "      <th>date</th>\n",
       "      <th>A</th>\n",
       "      <th>B</th>\n",
       "    </tr>\n",
       "  </thead>\n",
       "  <tbody>\n",
       "    <tr>\n",
       "      <th>0</th>\n",
       "      <td>2016-12-31</td>\n",
       "      <td>100.000000</td>\n",
       "      <td>100.000000</td>\n",
       "    </tr>\n",
       "    <tr>\n",
       "      <th>1</th>\n",
       "      <td>2017-01-31</td>\n",
       "      <td>99.740490</td>\n",
       "      <td>100.190601</td>\n",
       "    </tr>\n",
       "    <tr>\n",
       "      <th>2</th>\n",
       "      <td>2017-02-28</td>\n",
       "      <td>99.796436</td>\n",
       "      <td>100.107242</td>\n",
       "    </tr>\n",
       "  </tbody>\n",
       "</table>\n",
       "</div>"
      ],
      "text/plain": [
       "         date           A           B\n",
       "0  2016-12-31  100.000000  100.000000\n",
       "1  2017-01-31   99.740490  100.190601\n",
       "2  2017-02-28   99.796436  100.107242"
      ]
     },
     "execution_count": 3,
     "metadata": {},
     "output_type": "execute_result"
    }
   ],
   "source": [
    "df = pd.read_csv('sample_ts_data.csv') \n",
    "df.head(3)"
   ]
  },
  {
   "cell_type": "markdown",
   "id": "5d05215b",
   "metadata": {},
   "source": [
    "問題なく読み込めたが、このままだと `pandas` の時系列処理機能が全く使えない。<br>\n",
    "これは日付を表しているはず `date` 列が `object` 型になっているためである。"
   ]
  },
  {
   "cell_type": "code",
   "execution_count": 4,
   "id": "f8629b9b",
   "metadata": {},
   "outputs": [
    {
     "data": {
      "text/plain": [
       "0    2016-12-31\n",
       "1    2017-01-31\n",
       "2    2017-02-28\n",
       "Name: date, dtype: object"
      ]
     },
     "execution_count": 4,
     "metadata": {},
     "output_type": "execute_result"
    }
   ],
   "source": [
    "df['date'].head(3)"
   ]
  },
  {
   "cell_type": "markdown",
   "id": "a70609c4",
   "metadata": {},
   "source": [
    "つまり、ナイーブに読み込むのではなく<br>\n",
    "`date`列が日付であることを明示して読み込む必要がある。<br>\n",
    "これには読み込み時に `parse_dates=['列名']` と指定すれば良い"
   ]
  },
  {
   "cell_type": "code",
   "execution_count": 5,
   "id": "b92c8d4b",
   "metadata": {},
   "outputs": [
    {
     "data": {
      "text/plain": [
       "0   2016-12-31\n",
       "1   2017-01-31\n",
       "2   2017-02-28\n",
       "Name: date, dtype: datetime64[ns]"
      ]
     },
     "execution_count": 5,
     "metadata": {},
     "output_type": "execute_result"
    }
   ],
   "source": [
    "df = pd.read_csv('sample_ts_data.csv', parse_dates=['date'])\n",
    "df['date'].head(3) "
   ]
  },
  {
   "cell_type": "markdown",
   "id": "7d6c5fd9",
   "metadata": {},
   "source": [
    "資料(その1) と同様に日付をindexとしたいのであれば<br>\n",
    "`index_col='date'` のオプションを追加する。"
   ]
  },
  {
   "cell_type": "code",
   "execution_count": 6,
   "id": "150b356e",
   "metadata": {},
   "outputs": [
    {
     "data": {
      "text/html": [
       "<div>\n",
       "<style scoped>\n",
       "    .dataframe tbody tr th:only-of-type {\n",
       "        vertical-align: middle;\n",
       "    }\n",
       "\n",
       "    .dataframe tbody tr th {\n",
       "        vertical-align: top;\n",
       "    }\n",
       "\n",
       "    .dataframe thead th {\n",
       "        text-align: right;\n",
       "    }\n",
       "</style>\n",
       "<table border=\"1\" class=\"dataframe\">\n",
       "  <thead>\n",
       "    <tr style=\"text-align: right;\">\n",
       "      <th></th>\n",
       "      <th>A</th>\n",
       "      <th>B</th>\n",
       "    </tr>\n",
       "    <tr>\n",
       "      <th>date</th>\n",
       "      <th></th>\n",
       "      <th></th>\n",
       "    </tr>\n",
       "  </thead>\n",
       "  <tbody>\n",
       "    <tr>\n",
       "      <th>2016-12-31</th>\n",
       "      <td>100.000000</td>\n",
       "      <td>100.000000</td>\n",
       "    </tr>\n",
       "    <tr>\n",
       "      <th>2017-01-31</th>\n",
       "      <td>99.740490</td>\n",
       "      <td>100.190601</td>\n",
       "    </tr>\n",
       "    <tr>\n",
       "      <th>2017-02-28</th>\n",
       "      <td>99.796436</td>\n",
       "      <td>100.107242</td>\n",
       "    </tr>\n",
       "  </tbody>\n",
       "</table>\n",
       "</div>"
      ],
      "text/plain": [
       "                     A           B\n",
       "date                              \n",
       "2016-12-31  100.000000  100.000000\n",
       "2017-01-31   99.740490  100.190601\n",
       "2017-02-28   99.796436  100.107242"
      ]
     },
     "execution_count": 6,
     "metadata": {},
     "output_type": "execute_result"
    }
   ],
   "source": [
    "df = pd.read_csv('sample_ts_data.csv', index_col='date', parse_dates=['date'])\n",
    "# df = pd.read_csv('sample_ts_data.csv', index_col='date', parse_dates=True) # これでもOK\n",
    "df.head(3)"
   ]
  },
  {
   "cell_type": "markdown",
   "id": "06addc1e",
   "metadata": {},
   "source": [
    "なお、読み込み段階で日付変換する必要は必ずしもない。<br>\n",
    "以下のようなやり方で読み込み後に変換をかけても良い"
   ]
  },
  {
   "cell_type": "code",
   "execution_count": 7,
   "id": "af07587c",
   "metadata": {},
   "outputs": [
    {
     "data": {
      "text/html": [
       "<div>\n",
       "<style scoped>\n",
       "    .dataframe tbody tr th:only-of-type {\n",
       "        vertical-align: middle;\n",
       "    }\n",
       "\n",
       "    .dataframe tbody tr th {\n",
       "        vertical-align: top;\n",
       "    }\n",
       "\n",
       "    .dataframe thead th {\n",
       "        text-align: right;\n",
       "    }\n",
       "</style>\n",
       "<table border=\"1\" class=\"dataframe\">\n",
       "  <thead>\n",
       "    <tr style=\"text-align: right;\">\n",
       "      <th></th>\n",
       "      <th>A</th>\n",
       "      <th>B</th>\n",
       "    </tr>\n",
       "    <tr>\n",
       "      <th>date</th>\n",
       "      <th></th>\n",
       "      <th></th>\n",
       "    </tr>\n",
       "  </thead>\n",
       "  <tbody>\n",
       "    <tr>\n",
       "      <th>2016-12-31</th>\n",
       "      <td>100.000000</td>\n",
       "      <td>100.000000</td>\n",
       "    </tr>\n",
       "    <tr>\n",
       "      <th>2017-01-31</th>\n",
       "      <td>99.740490</td>\n",
       "      <td>100.190601</td>\n",
       "    </tr>\n",
       "    <tr>\n",
       "      <th>2017-02-28</th>\n",
       "      <td>99.796436</td>\n",
       "      <td>100.107242</td>\n",
       "    </tr>\n",
       "  </tbody>\n",
       "</table>\n",
       "</div>"
      ],
      "text/plain": [
       "                     A           B\n",
       "date                              \n",
       "2016-12-31  100.000000  100.000000\n",
       "2017-01-31   99.740490  100.190601\n",
       "2017-02-28   99.796436  100.107242"
      ]
     },
     "execution_count": 7,
     "metadata": {},
     "output_type": "execute_result"
    }
   ],
   "source": [
    "df = pd.read_csv('sample_ts_data.csv')\n",
    "df['date'] = pd.to_datetime(df['date'])\n",
    "# date 列をインデックスにしたいなら下を追加\n",
    "df = df.set_index('date')\n",
    "df.head(3)"
   ]
  },
  {
   "cell_type": "markdown",
   "id": "dc0a135a",
   "metadata": {},
   "source": [
    "## 1.2. 読み込みに前処理が必要な場合\n",
    "\n",
    "ネットでは様々な時系列データが配布されているが<br>\n",
    "ダウンロードしたデータがそのまま　`pandas`　で使えるケースは結構まれである。<br>\n",
    "理由はいくつか考えられるが、<br>\n",
    "「人間が見るだけの前提で、機械的に処理することを考えて作られていない」<br>\n",
    "あたりが大きい様に感じる。（特に行政データに多くて頭が痛い）\n",
    "\n",
    "そのままでは自動処理にかけられないデータを加工することを「前処理」という。<br>\n",
    "ここでは、そのままでは `read_csv` を使えないデータに対して行う<br>\n",
    "前処理の非常に簡単な例を紹介する。"
   ]
  },
  {
   "cell_type": "markdown",
   "id": "b07c2338",
   "metadata": {},
   "source": [
    "### 1.2.1. 前処理が必要なデータ例\n",
    "\n",
    "サンプルデータ [sample_ts_data_dirty.csv](https://github.com/Masashi-Ieda/seminar_support/blob/main/ipynb/sample_ts_data_dirty.csv) を例に説明しよう。\n",
    "とりあえず `read_csv` で読みこんでみると"
   ]
  },
  {
   "cell_type": "code",
   "execution_count": 8,
   "id": "0e55aeea",
   "metadata": {},
   "outputs": [
    {
     "data": {
      "text/html": [
       "<div>\n",
       "<style scoped>\n",
       "    .dataframe tbody tr th:only-of-type {\n",
       "        vertical-align: middle;\n",
       "    }\n",
       "\n",
       "    .dataframe tbody tr th {\n",
       "        vertical-align: top;\n",
       "    }\n",
       "\n",
       "    .dataframe thead th {\n",
       "        text-align: right;\n",
       "    }\n",
       "</style>\n",
       "<table border=\"1\" class=\"dataframe\">\n",
       "  <thead>\n",
       "    <tr style=\"text-align: right;\">\n",
       "      <th></th>\n",
       "      <th>This is a dirty sample CSV for ts_data_intro</th>\n",
       "    </tr>\n",
       "  </thead>\n",
       "  <tbody>\n",
       "    <tr>\n",
       "      <th>0</th>\n",
       "      <td>日本語はExcelで開けると文字化けする（はず） ; Japanese characters...</td>\n",
       "    </tr>\n",
       "    <tr>\n",
       "      <th>1</th>\n",
       "      <td>;A;B</td>\n",
       "    </tr>\n",
       "    <tr>\n",
       "      <th>2</th>\n",
       "      <td>2016-12-31;100.0;100.0</td>\n",
       "    </tr>\n",
       "    <tr>\n",
       "      <th>3</th>\n",
       "      <td>2017-01-31;99.74048964415707;100.19060082781897</td>\n",
       "    </tr>\n",
       "    <tr>\n",
       "      <th>4</th>\n",
       "      <td>2017-02-28;99.79643570468552;100.10724227001089</td>\n",
       "    </tr>\n",
       "  </tbody>\n",
       "</table>\n",
       "</div>"
      ],
      "text/plain": [
       "        This is a dirty sample CSV for ts_data_intro\n",
       "0  日本語はExcelで開けると文字化けする（はず） ; Japanese characters...\n",
       "1                                               ;A;B\n",
       "2                             2016-12-31;100.0;100.0\n",
       "3    2017-01-31;99.74048964415707;100.19060082781897\n",
       "4    2017-02-28;99.79643570468552;100.10724227001089"
      ]
     },
     "execution_count": 8,
     "metadata": {},
     "output_type": "execute_result"
    }
   ],
   "source": [
    "df_dirty = pd.read_csv('sample_ts_data_dirty.csv')\n",
    "df_dirty.head(5)"
   ]
  },
  {
   "cell_type": "markdown",
   "id": "314e3bf5",
   "metadata": {},
   "source": [
    "明らかに正常に読み込めていない。\n",
    "\n",
    "おかしいと思った場合は、データをテキストエディタなどで開いて原因を探そう。<br>\n",
    "今回の原因は主に3点である。\n",
    "\n",
    "- 先頭2行に妙な文字列（今回の場合はコメント）がある。\n",
    "- データの区切り文字が `,` ではなく `;` になっている。\n",
    "- 日付に相当する列名が空白。\n",
    "\n",
    "以上が解消されれば、1.1. で説明したコードで読み込むことができる。\n",
    "\n",
    "### 1.2.2. テキストエディタで処理\n",
    "\n",
    "慣れない内、あるいは単発で済むことが確定している場合は<br>\n",
    "テキストエディタなどで置換・削除処理をしてしまう方が良い。<br>\n",
    "`sample_ts_data.csv`と全く同じファイルにできるので、頑張って加工してみよう。\n",
    "\n",
    "**注意点**\n",
    "\n",
    "- **__絶対にExcelで処理をしてはいけない__**\n",
    "    - 以下の例の様に CSVファイルが汚染されて `pandas` で扱えなくなる\n",
    "        - 日付がシリアル値に置換される\n",
    "        - 日本語が文字化けして保存される可能性あり\n",
    "- おすすめテキストエディタ\n",
    "    - Visual Studio Code\n",
    "        - **超おすすめ**\n",
    "        - 便利なプラグイン多数\n",
    "        - プログラムも書きやすい\n",
    "    - メモ帳\n",
    "        - ただし、文字化けには対応できない\n",
    "- 「正規表現」を覚えると、加工の自由度が格段に上がる\n",
    "    - ただし、沼\n",
    "\n",
    "### 1.2.3. コードのみで処理\n",
    "\n",
    "今回のケース程度であれば、以下の様にコードのみで処理することもできる。<br>\n",
    "特に1行目で使っている `read_csv` のオプション\n",
    "\n",
    "- `sep` : 区切り文字の指定。デフォルトは `,` 。タブを指定したいときは `\\t` とする。\n",
    "- `skiprows` : 指定した行数だけ読み込みをスキップ。\n",
    "\n",
    "は覚えておくととても便利。"
   ]
  },
  {
   "cell_type": "code",
   "execution_count": 9,
   "id": "0f12c4d4",
   "metadata": {},
   "outputs": [
    {
     "data": {
      "text/html": [
       "<div>\n",
       "<style scoped>\n",
       "    .dataframe tbody tr th:only-of-type {\n",
       "        vertical-align: middle;\n",
       "    }\n",
       "\n",
       "    .dataframe tbody tr th {\n",
       "        vertical-align: top;\n",
       "    }\n",
       "\n",
       "    .dataframe thead th {\n",
       "        text-align: right;\n",
       "    }\n",
       "</style>\n",
       "<table border=\"1\" class=\"dataframe\">\n",
       "  <thead>\n",
       "    <tr style=\"text-align: right;\">\n",
       "      <th></th>\n",
       "      <th>date</th>\n",
       "      <th>A</th>\n",
       "      <th>B</th>\n",
       "    </tr>\n",
       "  </thead>\n",
       "  <tbody>\n",
       "    <tr>\n",
       "      <th>0</th>\n",
       "      <td>2016-12-31</td>\n",
       "      <td>100.000000</td>\n",
       "      <td>100.000000</td>\n",
       "    </tr>\n",
       "    <tr>\n",
       "      <th>1</th>\n",
       "      <td>2017-01-31</td>\n",
       "      <td>99.740490</td>\n",
       "      <td>100.190601</td>\n",
       "    </tr>\n",
       "    <tr>\n",
       "      <th>2</th>\n",
       "      <td>2017-02-28</td>\n",
       "      <td>99.796436</td>\n",
       "      <td>100.107242</td>\n",
       "    </tr>\n",
       "  </tbody>\n",
       "</table>\n",
       "</div>"
      ],
      "text/plain": [
       "        date           A           B\n",
       "0 2016-12-31  100.000000  100.000000\n",
       "1 2017-01-31   99.740490  100.190601\n",
       "2 2017-02-28   99.796436  100.107242"
      ]
     },
     "execution_count": 9,
     "metadata": {},
     "output_type": "execute_result"
    }
   ],
   "source": [
    "df_dirty = pd.read_csv('sample_ts_data_dirty.csv', sep=';', skiprows=2)\n",
    "df_dirty = df_dirty.rename(columns={df_dirty.columns[0]: 'date'})\n",
    "df_dirty['date'] = pd.to_datetime(df_dirty['date'])\n",
    "df_dirty.head(3)"
   ]
  },
  {
   "cell_type": "markdown",
   "id": "d2b64f49",
   "metadata": {},
   "source": [
    "### 1.2.4. 練習問題\n",
    "\n",
    "[みずほ銀行のヒストリカルデータ提供ページ](https://www.mizuhobank.co.jp/market/historical.html)\n",
    "の為替データを読み込んでみよう。<br>\n",
    "（1.2.3. のコードをベースにすれば、多分すぐにできる。）"
   ]
  },
  {
   "cell_type": "markdown",
   "id": "9c34a0e9",
   "metadata": {},
   "source": [
    "## 1.3. Excelファイルの読み込み\n",
    "\n",
    "- `pandas` の `pd.read_excel()` で事足りるならOK。\n",
    "- 事足りなくなった場合、別ライブラリを使う\n",
    "    - `openpyxl`\n",
    "    - `xlwings`\n",
    "\n",
    "必要になったら追記します。"
   ]
  },
  {
   "cell_type": "markdown",
   "id": "c325bd4c",
   "metadata": {},
   "source": [
    "---"
   ]
  },
  {
   "cell_type": "markdown",
   "id": "4697362d-8676-4e43-900a-139466a597f5",
   "metadata": {},
   "source": [
    "# 2. 移動平均 : 基準日を変えながら行うデータ処理\n",
    "\n",
    "時系列データ $X = \\{X_1,X_2, \\cdots, X_N \\}$ があるとする。<br>\n",
    "このとき、基準日 $t$ から過去 $M$ 期間分のデータを使って平均値を $\\bar{X}_t$と書くことにしよう：\n",
    "\n",
    "$ \\displaystyle \\bar{X}_t := \\frac{X_t + X_{t-1} + \\cdots + X_{t-(M-1)}}{M} = \\frac{1}{M} \\sum_{i=0}^{M-1} X_{t-i}$\n",
    "\n",
    "ここで定義した $\\bar{X}_t$ を $X$ の $M$ 期間移動平均 (Moving Average) と呼ぶ。<br>\n",
    "\n",
    "「移動」と呼ぶ理由はの意味は基準日 $t$ を移動させながら<br>\n",
    "新しい時系列データ $\\bar{X} = \\{\\bar{X}_t\\}$ を作ることに由来する。<br>\n",
    "また、移動平均は時系列データの平滑化方法の一種に分類される。<br>\n",
    "（平滑化の意味は、下のグラフまで先回りしてみると分かりやすいかもしれない）\n",
    "\n",
    "\n",
    "では、1.1.で読み込んだサンプルデータを使って $M=3$ とした場合の移動平均を求めてみよう。<br>\n",
    "なお、サンプルが1ヶ月毎のデータなので、今回の移動平均を「3ヶ月移動平均」とも呼ぶ。\n",
    "\n",
    "以下では移動平均の実装方法を解説する。<br>\n",
    "ただ、2.1. はかなり冗長な説明なので、読み飛ばしても構わない。<br>\n",
    "先を読んでわからなくなったら戻ってくるというスタンスが適当と考えている。<br>\n",
    "逆にプログラミングに自信のない人は 2.1. からスタートすることをおすすめする。\n"
   ]
  },
  {
   "cell_type": "markdown",
   "id": "569cd64b",
   "metadata": {},
   "source": [
    "## 2.1. プログラムを組む前に\n",
    "\n",
    "### 2.1.1. $X_t$ のラベル $t$ とデータの日付の関係\n",
    "\n",
    "- $X_t$ についているラベル $t$ は $X_1,X_2,\\cdots$ と整数\n",
    "- 計算基準日の $t$ は `2016-12-31`, `2017-3-31`, ... と日付\n",
    "\n",
    "ここにギャップを感じるのであれば、一旦表にして整理してみると良い。\n",
    "\n",
    "| 計算基準日 | 2017-3-31 | 2017-4-30 | 2017-5-31 |\n",
    "|-------|-----------|-----------|-----------|\n",
    "| t     | 2017-3-31 | 2017-4-30 | 2017-5-31 |\n",
    "| t-1   | 2017-2-28 | 2017-3-31 | 2017-4-30 |\n",
    "| t-2   | 2017-1-31 | 2017-3-31 | 2017-3-31 |\n",
    "\n",
    "\n",
    "慣れないうちは、いちいち上記の表を書き出すようにすると<br>\n",
    "ミスが減るのでトータルでは楽ができる。\n",
    "\n",
    "※ 数式上もカレンダーで定義すると矛盾なく見えるかもしれないが<br>\n",
    "時間間隔（今回は1ヶ月）などはデータによって異なる。<br>\n",
    "抽象的に扱う方が応用範囲が広いので、頑張って慣れたほうが幸せ。\n",
    "\n",
    "\n",
    "\n",
    "### 2.1.2. $\\bar{X}_t$ の具体的な計算例\n",
    "\n",
    "コードを書くときに重要なのは、コードを書く前に\n",
    "\n",
    "**いくつか具体的な計算をしてみて、共通部分を見つけ出す**\n",
    "\n",
    "ことをしておくことである。\n",
    "\n",
    "最初3パターンの計算をしてみると、以下の表の様になる\n",
    "\n",
    "\n",
    "| date       | A           | 移動平均        |\n",
    "|------------|-------------|-------------|\n",
    "| 2016/12/31 | 100         |             |\n",
    "| 2017/1/31  | 99.74048964 |             |\n",
    "| 2017/2/28  | 99.7964357  | 99.84564178 |\n",
    "| 2017/3/31  | 99.58297033 | 99.70663189 |\n",
    "| 2017/4/30  | 100.0420274 | 99.80714449 |\n",
    "| 2017/5/31  | 100.4447953 | 100.0232644 |\n",
    "\n",
    "\n",
    "この段階ではExcelを使うととても便利である。<br>\n",
    "ただ、Excel だとデータサイズ（計算期間や計算対象の種類）が変わるだけで<br>\n",
    "そのシートを修正する必要があるので、プログラムにしておくほうが後々楽。"
   ]
  },
  {
   "cell_type": "markdown",
   "id": "780feb08",
   "metadata": {},
   "source": [
    "## 2.2. ナイーブな実装過程\n",
    "\n",
    "実装する過程を順を追って見ていこう。\n",
    "\n",
    "初めに行うべきはデータのロードである。<br>\n",
    "基本的には1.1. で行ったことと同じ様にすればOKだが<br>\n",
    "実際の分析時には `df` など、何を表しているかわからない変数名は基本的に避けるべきである。"
   ]
  },
  {
   "cell_type": "code",
   "execution_count": 10,
   "id": "e6e78500",
   "metadata": {},
   "outputs": [],
   "source": [
    "# 時系列データの読み込み。分析のときは名前をキチンとつける。\n",
    "ts_data = pd.read_csv('sample_ts_data.csv', index_col='date', parse_dates=['date'])"
   ]
  },
  {
   "cell_type": "markdown",
   "id": "27cf44bb",
   "metadata": {},
   "source": [
    "次に、計算基準日を決定しよう。<br>\n",
    "これには、ロードした`ts_data` の日付を使えば確実である。<br>\n",
    "以下の様にして取り出そう。"
   ]
  },
  {
   "cell_type": "code",
   "execution_count": 11,
   "id": "18a50581",
   "metadata": {},
   "outputs": [],
   "source": [
    "# 計算基準日を抽出\n",
    "#   3ヶ月経つまではデータが足りず移動平均が計算できない\n",
    "calc_dates = ts_data.index[2:]"
   ]
  },
  {
   "cell_type": "markdown",
   "id": "7cf98803",
   "metadata": {},
   "source": [
    "各計算基準日で使用するサンプルデータを取り出すための条件式を考えよう。<br>\n",
    "前の資料に習うなら、開始日 `from_date` と 終了日 `to_date` を決めれば良い。<br>\n",
    "\n",
    "- `to_date` : 計算基準日\n",
    "- `from_date` : 計算基準日 - 2ヶ月\n",
    "\n",
    "`- 2ヶ月` の部分は、`pd.DateOffset` という機能を使うと実装できる。\n",
    "\n",
    "- 実装方法に悩んだらGoogleで検索してみよう。\n",
    "    - 作成者も実装開始時に`pd.DateOffset`を覚えていたわけではない。\n",
    "    - 「pandas datetime add months」と検索して使えそうな方法だったので使った。\n",
    "- 他にも実装方法はある : `datetime.timedelta`を使う方法など。"
   ]
  },
  {
   "cell_type": "code",
   "execution_count": 12,
   "id": "17eba7f5",
   "metadata": {},
   "outputs": [
    {
     "name": "stdout",
     "output_type": "stream",
     "text": [
      "from_date =  2016-12-28 00:00:00    to_date =  2017-02-28 00:00:00\n",
      "from_date =  2017-01-31 00:00:00    to_date =  2017-03-31 00:00:00\n",
      "from_date =  2017-02-28 00:00:00    to_date =  2017-04-30 00:00:00\n",
      "from_date =  2017-03-31 00:00:00    to_date =  2017-05-31 00:00:00\n"
     ]
    }
   ],
   "source": [
    "for calc_date in calc_dates[:4]: # 出力の都合上、先頭4個の計算に制限\n",
    "    # 検索条件を指定\n",
    "    to_date = calc_date\n",
    "    from_date = calc_date - pd.DateOffset(months=2)\n",
    "    print('from_date = ', from_date, '   to_date = ', to_date)"
   ]
  },
  {
   "cell_type": "markdown",
   "id": "c32634c8",
   "metadata": {},
   "source": [
    "出力結果を見る限り、良さそう。<br>\n",
    "なので、データを絞り込んでみよう"
   ]
  },
  {
   "cell_type": "code",
   "execution_count": 13,
   "id": "c23d0727",
   "metadata": {},
   "outputs": [
    {
     "name": "stdout",
     "output_type": "stream",
     "text": [
      "                     A           B\n",
      "date                              \n",
      "2016-12-31  100.000000  100.000000\n",
      "2017-01-31   99.740490  100.190601\n",
      "2017-02-28   99.796436  100.107242\n",
      "                    A           B\n",
      "date                             \n",
      "2017-01-31  99.740490  100.190601\n",
      "2017-02-28  99.796436  100.107242\n",
      "2017-03-31  99.582970   98.833458\n",
      "                     A           B\n",
      "date                              \n",
      "2017-02-28   99.796436  100.107242\n",
      "2017-03-31   99.582970   98.833458\n",
      "2017-04-30  100.042027   99.517338\n",
      "                     A          B\n",
      "date                             \n",
      "2017-03-31   99.582970  98.833458\n",
      "2017-04-30  100.042027  99.517338\n",
      "2017-05-31  100.444795  99.657631\n"
     ]
    }
   ],
   "source": [
    "for calc_date in calc_dates[:4]: # 出力の都合上、先頭4個の計算に制限\n",
    "    # 検索条件を指定\n",
    "    to_date = calc_date\n",
    "    from_date = calc_date - pd.DateOffset(months=2)\n",
    "    # データの絞り込み\n",
    "    samples = ts_data[(ts_data.index >= from_date) & (ts_data.index <= to_date)]\n",
    "    print(samples)"
   ]
  },
  {
   "cell_type": "markdown",
   "id": "5761171b",
   "metadata": {},
   "source": [
    "使いたいデータが出ていることが見て取れる。<br>\n",
    "なので、平均を取る処理を加えて結果を表示させよう。"
   ]
  },
  {
   "cell_type": "code",
   "execution_count": 14,
   "id": "63037fbd",
   "metadata": {},
   "outputs": [
    {
     "name": "stdout",
     "output_type": "stream",
     "text": [
      "2017-02-28 00:00:00\n",
      "A     99.845642\n",
      "B    100.099281\n",
      "dtype: float64\n",
      "2017-03-31 00:00:00\n",
      "A    99.706632\n",
      "B    99.710434\n",
      "dtype: float64\n",
      "2017-04-30 00:00:00\n",
      "A    99.807144\n",
      "B    99.486013\n",
      "dtype: float64\n",
      "2017-05-31 00:00:00\n",
      "A    100.023264\n",
      "B     99.336142\n",
      "dtype: float64\n"
     ]
    }
   ],
   "source": [
    "for calc_date in calc_dates[:4]: # 出力の都合上、先頭4個の計算に制限\n",
    "    # 検索条件を指定\n",
    "    to_date = calc_date\n",
    "    from_date = calc_date - pd.DateOffset(months=2)\n",
    "    # データの絞り込み\n",
    "    samples = ts_data[(ts_data.index >= from_date) & (ts_data.index <= to_date)]\n",
    "    # 平均値の計算 / pandas にやらせてしまう\n",
    "    mean = samples.mean()\n",
    "    # 結果の表示\n",
    "    print(calc_date)\n",
    "    print(mean)\n"
   ]
  },
  {
   "cell_type": "markdown",
   "id": "f28b848c",
   "metadata": {},
   "source": [
    "これで実装はほぼ完了だが、コードが間違っていないか点検しておくことをおすすめする。<br>\n",
    "今回の例であれば、最初3件程度について<br>\n",
    "手計算(あるいはExcelなど)で計算した結果と一致するかチェックすると良い。<br>\n",
    "**割と普通にミスするのでチェックは大事**"
   ]
  },
  {
   "cell_type": "markdown",
   "id": "ed4ca82e",
   "metadata": {},
   "source": [
    "## 2.3.　もう少しスマートな実装例\n",
    "\n",
    "2.2. よりもスマートな実装を考えてみよう。<br>\n",
    "主な改善ポイントは以下の2点。\n",
    "\n",
    "- 平均を計算するサンプルの絞り込み方法\n",
    "- 結果の `pd.DataFrame` での出力方法\n",
    "\n",
    "先に実装コードを示そう。"
   ]
  },
  {
   "cell_type": "code",
   "execution_count": 15,
   "id": "c4023fdd",
   "metadata": {},
   "outputs": [
    {
     "name": "stdout",
     "output_type": "stream",
     "text": [
      "                    A           B\n",
      "2017-02-28  99.845642  100.099281\n",
      "2017-03-31  99.706632   99.710434\n",
      "2017-04-30  99.807144   99.486013\n",
      "                     A           B\n",
      "2020-12-31  104.767165  120.075225\n",
      "2021-01-31  104.602034  120.779208\n",
      "2021-02-28  104.727958  121.414215\n"
     ]
    }
   ],
   "source": [
    "# M期間をパラメータにしておくと便利\n",
    "M = 3\n",
    "# 時系列データの読み込み。分析のときは名前をキチンとつける。\n",
    "ts_data = pd.read_csv('sample_ts_data.csv', index_col='date', parse_dates=['date'])\n",
    "\n",
    "# 計算対象日を抽出\n",
    "#   Mヶ月経つまではデータが足りず移動平均が計算できない\n",
    "calc_dates = ts_data.index[M-1:]\n",
    "# 結果出力用リスト\n",
    "results = []\n",
    "#\n",
    "for calc_date in calc_dates:\n",
    "    # サンプルデータの絞り込み1: calc_date までのデータを抽出\n",
    "    samples = ts_data[ts_data.index <= calc_date]\n",
    "    # サンプルデータの絞り込み2:　後ろからM個のデータを抽出\n",
    "    samples = samples.tail(M)\n",
    "    # 平均値の計算 / pandas にやらせてしまう\n",
    "    means = samples.mean()\n",
    "    # 計算結果を1行のDataFrameに保存\n",
    "    df = pd.DataFrame(means).T\n",
    "    df.index = [calc_date]\n",
    "    # 作成したDataFrameをリストに追記\n",
    "    results += [df]\n",
    "\n",
    "# 計算結果を結合して一つのDataFrameにする。\n",
    "results = pd.concat(results)\n",
    "print(results.head(3))\n",
    "print(results.tail(3))\n",
    "\n"
   ]
  },
  {
   "cell_type": "markdown",
   "id": "b1095c38",
   "metadata": {},
   "source": [
    "#### サンプルの絞り込み方法\n",
    "\n",
    "- 元々のサンプルの絞り込み条件は 「基準日$t$から直近M個分のデータ」であった。\n",
    "- そこで、末尾のデータを取り出す `tail` を使うと 「直近M個分」の条件をよりストレートに実装できる\n",
    "- なので、上記の様な2段階の絞り込みの方がやりやすい。\n",
    "\n",
    "\n",
    "#### 計算結果の `pd.DataFrame` での出力方法\n",
    "\n",
    "- 基本的な考え方\n",
    "    - `pd.DataFrame`を詰める空のリストをループ外で準備\n",
    "    - 計算結果を1行分の`pd.DataFrame`に整形\n",
    "    - 上記のリストに順次詰める\n",
    "    - 最後に `pd.concat` で結合する。\n",
    "- この書き方は割と作成者の手癖\n",
    "    - 絶対の正解というわけではない。\n",
    "    - あくまでやり方の一例\n",
    "- 難点は繰り返しが多くなると処理が重たくなる点\n",
    "    - 週ごと程度の処理なら特に問題にはならないが\n",
    "\n",
    "\n",
    "**ぜひコードを分解しながら試行錯誤して理解してほしい**\n",
    "\n",
    "\n"
   ]
  },
  {
   "cell_type": "markdown",
   "id": "a9606ddc",
   "metadata": {},
   "source": [
    "## 2.4. 参考資料\n",
    "\n",
    "移動平均のもう少し詳しい説明。\n",
    "\n",
    "- [Wikipedia](https://ja.wikipedia.org/wiki/%E7%A7%BB%E5%8B%95%E5%B9%B3%E5%9D%87)\n",
    "- [語り口の優しいサイト](https://toukeigaku-jouhou.info/2015/08/23/moving-average/)\n",
    "\n",
    "#### ちなみに\n",
    "この手合の処理は、「ローリング　統計量」や「window関数（窓関数）」などで検索すると色々な方策が見つかる。<br>\n",
    "知っての通り、Pythonのfor文などは非常に計算速度が遅いので、<br>\n",
    "仕事などでこの手合の分析をするときには、for文での実装ではなく　<br>\n",
    "pandasなどのライブラリーの機能を活用することが望ましい。"
   ]
  }
 ],
 "metadata": {
  "colab": {
   "collapsed_sections": [],
   "name": "graph_intro.ipynb",
   "provenance": []
  },
  "kernelspec": {
   "display_name": "Python 3",
   "language": "python",
   "name": "python3"
  },
  "language_info": {
   "codemirror_mode": {
    "name": "ipython",
    "version": 3
   },
   "file_extension": ".py",
   "mimetype": "text/x-python",
   "name": "python",
   "nbconvert_exporter": "python",
   "pygments_lexer": "ipython3",
   "version": "3.8.5"
  }
 },
 "nbformat": 4,
 "nbformat_minor": 5
}
