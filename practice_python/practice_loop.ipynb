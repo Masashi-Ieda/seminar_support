{
 "cells": [
  {
   "cell_type": "markdown",
   "id": "1a1e86e2-18bc-49ae-a574-f9263e88d5a2",
   "metadata": {
    "id": "1a1e86e2-18bc-49ae-a574-f9263e88d5a2"
   },
   "source": [
    "# 多重ループの練習問題\n",
    "\n",
    "- 本ノートブックには多重ループに関する練習問題が掲載されています。\n",
    "- 模範解答コードは常時公開にはせず、時間をおいた後にダウンロード負荷設定で共有します。（コピペされると練習にならんので）\n",
    "\n",
    "---"
   ]
  },
  {
   "cell_type": "markdown",
   "id": "Z2vB-SmI1lTl",
   "metadata": {
    "id": "Z2vB-SmI1lTl"
   },
   "source": [
    "# 単純なループの復習\n",
    "\n",
    "## Q.1-1\n",
    "$a,b\\in\\mathbb{R}^N$の内積は $a^\\top b = \\displaystyle \\sum_{n=1}^N a_n b_n$　より計算できる。<br>\n",
    "以下の様に $a,b$ が与えられているとして\n",
    "- $a_n\\times b_n$ を $n=1$ から順にすべての表示せよ。\n",
    "- 内積の計算を `for` 文を使って実装せよ。（出力されるべき数値は 550）\n",
    "\n",
    "なお、ベクトルの要素番号は数学とプログラミング言語で1だけずれていることに注意せよ。　<br>\n",
    "（数学における $a_1$ はプログラミング言語では `a[0]` が対応する）\n"
   ]
  },
  {
   "cell_type": "code",
   "execution_count": 1,
   "id": "41896ee5-15cd-436b-8307-72e15bceab6f",
   "metadata": {},
   "outputs": [],
   "source": [
    "a = [1,2,3,4,5]\n",
    "b = [10,20,30,40,50]"
   ]
  },
  {
   "cell_type": "markdown",
   "id": "c717e01d-b629-4e78-9387-0d4d5c2bd3f0",
   "metadata": {},
   "source": [
    "### Q.1-2\n",
    "$20$の階乗$20!$を求めるプログラムを作成せよ。<br>\n",
    "ただし、この問題では外部ライブラリは使用禁止である。"
   ]
  },
  {
   "cell_type": "markdown",
   "id": "1b2ff625-44e2-4c1c-8118-ab259223e541",
   "metadata": {},
   "source": [
    "---\n",
    "# ２重ループの練習問題"
   ]
  },
  {
   "cell_type": "markdown",
   "id": "7031fba7-91bb-474a-a839-1438f17c488d",
   "metadata": {},
   "source": [
    "## Q.2-1\n",
    "`for` 文を使って九九表を表示せよ。<br>\n",
    "ただし、1桁の数字と2桁の数字が混ざるので表記が多少ずれる点には無視して良い。<br>\n",
    "（対応できるなら更にGood。 : 　`f文字列`などを使うとできる。計策してみよう。）\n",
    "\n",
    "ヒント\n",
    "- `print` 関数は自動的に改行してしまうので `print(1, end='')` とすると改行しなくなる。\n",
    "- 空白文字の出力は `print(' ', end='')` が手っ取り早い。<br>（半角スペースがシングルクォーテーションの間に入っている）\n",
    "- 改行は `print()` が手っ取り早い。\n",
    "\n",
    "おまけの問題： インドでは 20$\\times$20 の掛け算を暗記するそうです。九九表ならぬ二十二十表を作れ。"
   ]
  },
  {
   "cell_type": "markdown",
   "id": "f8e707cb-b540-4fb8-a1cb-98eecfadbe21",
   "metadata": {},
   "source": [
    "## Q.2-2\n",
    "$x\\in \\mathbb{R}^d$, $y\\in\\mathbb{R}^n$, $A\\in\\mathbb{R}^{n\\times d}$($n\\times d$行列)とする。<br>\n",
    "このとき、$y^\\top A x$はスカラー量であり、$y^\\top A x = \\displaystyle\\sum_{j=1}^n\\sum_{i=1}^d y_j A_{ji} x_i$ である。<br>\n",
    "$x,y,A$が以下の様に与えられているとき、 `for` 文を使って$y^\\top A x$ を計算せよ。<br>\n",
    "（出力されるべき数値は 9300）"
   ]
  },
  {
   "cell_type": "code",
   "execution_count": 2,
   "id": "19c57873-94f4-467e-9195-076b705b4780",
   "metadata": {},
   "outputs": [],
   "source": [
    "x = [1,2,3,4,5]\n",
    "y = [10, 20, 30]\n",
    "A = [[1,2,3,4,5],\n",
    "     [6,7,8,9,10],\n",
    "     [11,12,13,14,15]]"
   ]
  },
  {
   "cell_type": "markdown",
   "id": "c1b407c1-6ddc-4d9d-be71-4a5aec9d77c2",
   "metadata": {},
   "source": [
    "---\n",
    "# 3重以上の多重ループの練習問題"
   ]
  },
  {
   "cell_type": "markdown",
   "id": "41c5be4b-6940-47d7-bbb1-d4293dff6074",
   "metadata": {},
   "source": [
    "## Q.3-1\n",
    "三角関数$\\sin (x)$をコンピュータで計算する方法の一つに、マクローリン級数\n",
    "$$\n",
    "\\sin(x) = \\displaystyle \\lim_{M \\rightarrow \\infty} \\sum_{n=1}^M (-1)^{n-1} \\frac{x^{2n-1}}{(2n-1)!}\n",
    "$$\n",
    "を途中で打ち切ったものを利用する方法がある。\n",
    "\n",
    "今、\n",
    "- $\\sin(x)$のマクローリン級数を$x^7$の項までで打ち切ったもの実装し、\n",
    "- $x=\\dfrac{30i}{180}\\pi \\quad (i=1,\\cdots,5)$ を代入し誤差を求めよ。<br>\n",
    "ただし、真の値には `np.sin` 関数、$\\pi$には `np.pi` を用いよ。<br>\n",
    "（`np`は通常通り `import numpy as np` をコード先頭に記述している前提である。）\n",
    "- また、$x^5$の項までで打ち切った場合、どの程度計算精度が劣化するか確かめよ。\n",
    "\n",
    "という問題が出題されたので、以下のコードを書いたが、うまく動作していない。<br>\n",
    "このコードの誤りを指摘して修正せよ。"
   ]
  },
  {
   "cell_type": "code",
   "execution_count": 3,
   "id": "41c9ecee-8820-423b-b737-bef1d5f7c1e8",
   "metadata": {},
   "outputs": [
    {
     "name": "stdout",
     "output_type": "stream",
     "text": [
      "i= 8 error= -8.130976725251315e-09\n"
     ]
    }
   ],
   "source": [
    "#\n",
    "import numpy as np\n",
    "#\n",
    "M = 4 # x^7　までなら、M=4, x^5　までなら、M=3\n",
    "#\n",
    "i=1\n",
    "while i <= 5:\n",
    "    # xを設定\n",
    "    x = 30*i/180*np.pi\n",
    "    #　マクローリン展開の計算　\n",
    "    s = 0\n",
    "    n=1\n",
    "    while n <= M:\n",
    "        expo = 2*n-1 # 指数 = exponent\n",
    "        #(2n-1)!の計算\n",
    "        fac = 1 # 階乗 = factorial\n",
    "        i=1\n",
    "        while i <= expo:\n",
    "            fac *= i\n",
    "            i += 1\n",
    "        #\n",
    "        s += (-1)**(n-1) * x**expo / fac\n",
    "        # nを1進める\n",
    "        n += 1\n",
    "    #誤差の計算\n",
    "    error = s - np.sin(x)\n",
    "    print('i=', i ,'error=', error)\n",
    "    # iを1進める\n",
    "    i += 1"
   ]
  },
  {
   "cell_type": "markdown",
   "id": "b9bf6a48-f0ab-4e48-b751-124d4cf92b3c",
   "metadata": {},
   "source": [
    "## Q.3-2\n",
    "実際の分析で3重以上のループを使う場合、自然数$i,j,k$などでのループを考えるよりも<br>\n",
    "人間にとって分かりやすいラベルで考えるケースが多い。<br>\n",
    "具体的な例で考えてみよう。\n",
    "\n",
    "あなたは以下のような塾で高校2年生の数学を教えるアルバイトしているとする。\n",
    "- 塾には「新宿校舎」・「渋谷校舎」・「池袋校舎」と3つの校舎がある\n",
    "- 各校舎はA・B・C・Dと4つのクラスに分かれている。\n",
    "- 各クラスには5人の学生がいて、1~5の出席番号が割り振られている。\n",
    "\n",
    "いま塾全体でテストが行われて、そのスコアが変数　`scores`に収まっている。\n",
    "（スコアの生成方法は一旦無視して良い）"
   ]
  },
  {
   "cell_type": "code",
   "execution_count": 4,
   "id": "0b60298b-112d-4e12-a1f1-07ade7c10447",
   "metadata": {},
   "outputs": [],
   "source": [
    "# ランダムにスコアを生成 / 生成方法は一旦無視して良い\n",
    "\n",
    "import numpy as np\n",
    "np.random.seed(777)\n",
    "\n",
    "scores = dict()\n",
    "for school in ['shinjuku', 'shibuya', 'ikebukuro']:\n",
    "    #\n",
    "    scores_of_school = dict()\n",
    "    for class_name in ['A', 'B', 'C', 'D']:\n",
    "        #\n",
    "        scores_of_class = dict()\n",
    "        for i in range(1, 5+1):\n",
    "            scores_of_class[i] = np.random.randint(0, 100)\n",
    "        #\n",
    "        scores_of_school[class_name] = scores_of_class\n",
    "    #\n",
    "    scores[school] = scores_of_school"
   ]
  },
  {
   "cell_type": "markdown",
   "id": "f4214721-3d27-435b-801d-b7bb7ae05e37",
   "metadata": {},
   "source": [
    "この`scores`から特定の生徒のスコアを見るためには「校舎・クラス・出席番号」の3つを指定する必要があるわけだが\n",
    "- 校舎名に0\\~2、クラス名に0\\~3を割り当てて、`scores[i][j][k]` とする保存形式より\n",
    "- `scores[校舎名][クラス][出席番号]`と指定できるよう保存した方が明らかに便利である。\n",
    "\n",
    "上記のコードでは `dict` 型を使って上記のニーズを満たしている。<br>\n",
    "たとえば、渋谷校舎・Bクラス・出席番号3番の学生の成績は以下の様にして取り出す。"
   ]
  },
  {
   "cell_type": "code",
   "execution_count": 5,
   "id": "8157c903-57e7-4220-9afb-30edfd1ef745",
   "metadata": {},
   "outputs": [
    {
     "data": {
      "text/plain": [
       "50"
      ]
     },
     "execution_count": 5,
     "metadata": {},
     "output_type": "execute_result"
    }
   ],
   "source": [
    "scores['shibuya']['B'][3]"
   ]
  },
  {
   "cell_type": "markdown",
   "id": "3b0764ae-4372-498d-a6b8-31a82f2b6897",
   "metadata": {},
   "source": [
    "さて、あなたに　「このテストの平均値を求めておいてください」という仕事が割り振られました。<br>\n",
    "`socres` を使用して平均点を求めてください。（出力されるべき値は 70.7166...）"
   ]
  }
 ],
 "metadata": {
  "colab": {
   "collapsed_sections": [],
   "name": "graph_intro.ipynb",
   "provenance": []
  },
  "kernelspec": {
   "display_name": "Python 3",
   "language": "python",
   "name": "python3"
  },
  "language_info": {
   "codemirror_mode": {
    "name": "ipython",
    "version": 3
   },
   "file_extension": ".py",
   "mimetype": "text/x-python",
   "name": "python",
   "nbconvert_exporter": "python",
   "pygments_lexer": "ipython3",
   "version": "3.8.5"
  }
 },
 "nbformat": 4,
 "nbformat_minor": 5
}
